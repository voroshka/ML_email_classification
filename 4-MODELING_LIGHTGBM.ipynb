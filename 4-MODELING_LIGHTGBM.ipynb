{
 "cells": [
  {
   "cell_type": "code",
   "execution_count": 5,
   "metadata": {},
   "outputs": [],
   "source": [
    "import re\n",
    "from pprint import pprint\n",
    "from datetime import datetime\n",
    "from collections import Counter\n",
    "import pandas as pd\n",
    "import numpy as np\n",
    "\n",
    "from sklearn.utils import class_weight\n",
    "from sklearn.preprocessing import LabelEncoder\n",
    "#from category_encoders import TargetEncoder, CatBoostEncoder\n",
    "from sklearn.model_selection import cross_val_score, StratifiedKFold, RandomizedSearchCV, train_test_split\n",
    "from sklearn.ensemble import RandomForestClassifier, GradientBoostingClassifier\n",
    "from sklearn import metrics\n",
    "\n",
    "import xgboost as xgb\n",
    "import lightgbm as lgb\n",
    "\n",
    "from hyperopt import Trials, STATUS_OK, tpe, hp, fmin"
   ]
  },
  {
   "cell_type": "code",
   "execution_count": 6,
   "metadata": {},
   "outputs": [
    {
     "name": "stdout",
     "output_type": "stream",
     "text": [
      "(80176, 20) (34365, 20)\n"
     ]
    }
   ],
   "source": [
    "method = \"target\"\n",
    "assert method in [\"label\", \"target\", \"onehot\", \"catboost\"]\n",
    "\n",
    "features = pd.read_csv(f\"../data/processed/{method}/train.csv\")\n",
    "test = pd.read_csv(f\"../data/processed/{method}/test.csv\")\n",
    "\n",
    "targets = features[\"label\"].values\n",
    "\n",
    "features.drop([\"label\"], inplace=True, axis=1)\n",
    "\n",
    "print(features.shape, test.shape)"
   ]
  },
  {
   "cell_type": "markdown",
   "metadata": {},
   "source": [
    "### Gridsearch with HypeOPT"
   ]
  },
  {
   "cell_type": "code",
   "execution_count": 7,
   "metadata": {},
   "outputs": [],
   "source": [
    "def objective(space):\n",
    "    classifier = lgb.LGBMClassifier(num_leaves=int(space[\"num_leaves\"]),\n",
    "                                   n_estimators=int(space['n_estimators']),\n",
    "                                   max_depth=int(space['max_depth']),\n",
    "                                   learning_rate = space['learning_rate'],\n",
    "                                   min_child_weight = space['min_child_weight'],\n",
    "                                   subsample = space['subsample'],\n",
    "                                   colsample_bytree = space['colsample_bytree'],\n",
    "                                   objective=\"multiclass\"\n",
    "                                )\n",
    "    #classifier.fit(features, targets)    \n",
    "    scores = cross_val_score(estimator=classifier,\n",
    "                             n_jobs=5,\n",
    "                             X=features, \n",
    "                             y=targets, \n",
    "                             cv=StratifiedKFold(n_splits=5),\n",
    "                             scoring=\"f1_micro\"\n",
    "                            )\n",
    "    mean_score = scores.mean()\n",
    "    \n",
    "    return {\n",
    "        'loss': 1 - mean_score, \n",
    "        'status': STATUS_OK \n",
    "    }"
   ]
  },
  {
   "cell_type": "code",
   "execution_count": 89,
   "metadata": {},
   "outputs": [
    {
     "name": "stdout",
     "output_type": "stream",
     "text": [
      "100%|██████████| 50/50 [05:27<00:00,  6.55s/trial, best loss: 0.3982363753895487]\n"
     ]
    }
   ],
   "source": [
    "space = {\n",
    "    'n_estimators': hp.quniform('n_estimators', 50, 200, 5),\n",
    "    'max_depth' : hp.quniform('max_depth', 3, 30, 2),\n",
    "    'learning_rate' : hp.quniform('learning_rate', 0.01, 0.3, 0.01),\n",
    "    'min_child_weight' : hp.quniform('min_child_weight', 1, 20, 1),\n",
    "    'subsample' : hp.quniform('subsample', 0.1, 1, 0.01),\n",
    "    'colsample_bytree' : hp.quniform('colsample_bytree', 0.1, 1.0, 0.01),\n",
    "    'num_leaves': hp.quniform('num_leaves', 8, 128, 2),\n",
    "}\n",
    "\n",
    "trials = Trials()\n",
    "best = fmin(fn=objective, \n",
    "            verbose=5,\n",
    "            space=space,\n",
    "            algo=tpe.suggest,\n",
    "            max_evals=50,\n",
    "            trials=trials)"
   ]
  },
  {
   "cell_type": "code",
   "execution_count": 90,
   "metadata": {},
   "outputs": [
    {
     "data": {
      "text/plain": [
       "{'colsample_bytree': 0.75,\n",
       " 'learning_rate': 0.05,\n",
       " 'max_depth': 30.0,\n",
       " 'min_child_weight': 10.0,\n",
       " 'n_estimators': 75.0,\n",
       " 'num_leaves': 20.0,\n",
       " 'subsample': 0.66}"
      ]
     },
     "execution_count": 90,
     "metadata": {},
     "output_type": "execute_result"
    }
   ],
   "source": [
    "best"
   ]
  },
  {
   "cell_type": "code",
   "execution_count": 91,
   "metadata": {},
   "outputs": [],
   "source": [
    "best[\"max_depth\"] = int(best[\"max_depth\"])\n",
    "best[\"n_estimators\"] = int(best[\"n_estimators\"])\n",
    "best[\"num_leaves\"] = int(best[\"num_leaves\"])"
   ]
  },
  {
   "cell_type": "markdown",
   "metadata": {},
   "source": [
    "### Testing cross_val_score: "
   ]
  },
  {
   "cell_type": "code",
   "execution_count": 92,
   "metadata": {},
   "outputs": [
    {
     "name": "stderr",
     "output_type": "stream",
     "text": [
      "[Parallel(n_jobs=5)]: Using backend LokyBackend with 5 concurrent workers.\n",
      "[Parallel(n_jobs=5)]: Done   2 out of   5 | elapsed:    3.2s remaining:    4.8s\n"
     ]
    },
    {
     "name": "stdout",
     "output_type": "stream",
     "text": [
      "mean score: 0.6017636246104513\n"
     ]
    },
    {
     "name": "stderr",
     "output_type": "stream",
     "text": [
      "[Parallel(n_jobs=5)]: Done   5 out of   5 | elapsed:    3.8s remaining:    0.0s\n",
      "[Parallel(n_jobs=5)]: Done   5 out of   5 | elapsed:    3.8s finished\n"
     ]
    }
   ],
   "source": [
    "model = lgb.LGBMClassifier(**best)\n",
    "scores = cross_val_score(model, features, targets, scoring=\"f1_micro\", verbose=2, n_jobs=5)\n",
    "print(f\"mean score: {np.mean(scores)}\")"
   ]
  },
  {
   "cell_type": "markdown",
   "metadata": {},
   "source": [
    "### Train best model on all data"
   ]
  },
  {
   "cell_type": "code",
   "execution_count": 93,
   "metadata": {},
   "outputs": [
    {
     "data": {
      "text/plain": [
       "LGBMClassifier(boosting_type='gbdt', class_weight=None, colsample_bytree=0.75,\n",
       "               importance_type='split', learning_rate=0.05, max_depth=30,\n",
       "               min_child_samples=20, min_child_weight=10.0, min_split_gain=0.0,\n",
       "               n_estimators=75, n_jobs=-1, num_leaves=20, objective=None,\n",
       "               random_state=None, reg_alpha=0.0, reg_lambda=0.0, silent=True,\n",
       "               subsample=0.66, subsample_for_bin=200000, subsample_freq=0)"
      ]
     },
     "execution_count": 93,
     "metadata": {},
     "output_type": "execute_result"
    }
   ],
   "source": [
    "model = lgb.LGBMClassifier(**best)\n",
    "model.fit(features, targets)"
   ]
  },
  {
   "cell_type": "code",
   "execution_count": 94,
   "metadata": {},
   "outputs": [],
   "source": [
    "feature_importance = pd.DataFrame()\n",
    "feature_importance[\"imp\"] = model.feature_importances_\n",
    "feature_importance[\"feature\"] = model.feature_name_"
   ]
  },
  {
   "cell_type": "code",
   "execution_count": 95,
   "metadata": {},
   "outputs": [],
   "source": [
    "feature_importance.set_index(\"feature\", inplace=True)"
   ]
  },
  {
   "cell_type": "code",
   "execution_count": 96,
   "metadata": {},
   "outputs": [
    {
     "data": {
      "text/plain": [
       "<AxesSubplot:ylabel='feature'>"
      ]
     },
     "execution_count": 96,
     "metadata": {},
     "output_type": "execute_result"
    },
    {
     "data": {
      "image/png": "[encoded data removed]",
      "text/plain": [
       "<Figure size 1080x720 with 1 Axes>"
      ]
     },
     "metadata": {
      "needs_background": "light"
     },
     "output_type": "display_data"
    }
   ],
   "source": [
    "feature_importance.sort_values(by=\"imp\", ascending=True).plot(kind=\"barh\", figsize=(15, 10), grid=True)"
   ]
  },
  {
   "cell_type": "markdown",
   "metadata": {},
   "source": [
    "### Submission "
   ]
  },
  {
   "cell_type": "code",
   "execution_count": 97,
   "metadata": {},
   "outputs": [],
   "source": [
    "submission = pd.DataFrame()\n",
    "submission[\"Id\"] = range(len(test))\n",
    "submission[\"label\"] = model.predict(test)\n",
    "submission.to_csv(f\"../data/submissions/lgbm_{method}.csv\", index=False)"
   ]
  },
  {
   "cell_type": "markdown",
   "metadata": {},
   "source": [
    "### Save proba"
   ]
  },
  {
   "cell_type": "code",
   "execution_count": 98,
   "metadata": {},
   "outputs": [],
   "source": [
    "probas = pd.DataFrame()\n",
    "probas[\"Id\"] = range(len(test))\n",
    "\n",
    "probas = pd.concat([probas, pd.DataFrame(model.predict_proba(test))], axis=1)"
   ]
  },
  {
   "cell_type": "code",
   "execution_count": 99,
   "metadata": {},
   "outputs": [],
   "source": [
    "probas.to_csv(f\"../data/submissions/lgbm_probas_{method}.csv\", index=False)"
   ]
  },
  {
   "cell_type": "markdown",
   "metadata": {},
   "source": [
    "# 0.60529 public leaderboard"
   ]
  }
 ],
 "metadata": {
  "kernelspec": {
   "display_name": "Python 3",
   "language": "python",
   "name": "python3"
  },
  "language_info": {
   "codemirror_mode": {
    "name": "ipython",
    "version": 3
   },
   "file_extension": ".py",
   "mimetype": "text/x-python",
   "name": "python",
   "nbconvert_exporter": "python",
   "pygments_lexer": "ipython3",
   "version": "3.6.10"
  }
 },
 "nbformat": 4,
 "nbformat_minor": 4
}
