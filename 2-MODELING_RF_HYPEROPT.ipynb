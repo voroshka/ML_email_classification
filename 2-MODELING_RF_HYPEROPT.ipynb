{
 "cells": [
  {
   "cell_type": "code",
   "execution_count": 1,
   "metadata": {},
   "outputs": [],
   "source": [
    "import re\n",
    "from pprint import pprint\n",
    "from datetime import datetime\n",
    "from collections import Counter\n",
    "import pandas as pd\n",
    "import numpy as np\n",
    "\n",
    "from sklearn.utils import class_weight\n",
    "from sklearn.preprocessing import LabelEncoder\n",
    "from category_encoders import TargetEncoder, CatBoostEncoder\n",
    "from sklearn.model_selection import cross_val_score, StratifiedKFold, RandomizedSearchCV, train_test_split\n",
    "from sklearn.ensemble import RandomForestClassifier, ExtraTreesClassifier\n",
    "from sklearn import metrics\n",
    "from sklearn.feature_selection import SelectFromModel\n",
    "\n",
    "import xgboost as xgb\n",
    "from hyperopt import Trials, STATUS_OK, tpe, hp, fmin"
   ]
  },
  {
   "cell_type": "code",
   "execution_count": 2,
   "metadata": {},
   "outputs": [
    {
     "name": "stdout",
     "output_type": "stream",
     "text": [
      "(80176, 20) (34365, 20)\n"
     ]
    }
   ],
   "source": [
    "method = \"target\"\n",
    "assert method in [\"label\", \"target\", \"onehot\", \"catboost\"]\n",
    "\n",
    "features = pd.read_csv(f\"../data/processed/{method}/train.csv\")\n",
    "test = pd.read_csv(f\"../data/processed/{method}/test.csv\")\n",
    "\n",
    "targets = features[\"label\"].values\n",
    "\n",
    "features.drop([\"label\"], inplace=True, axis=1)\n",
    "print(features.shape, test.shape)"
   ]
  },
  {
   "cell_type": "markdown",
   "metadata": {},
   "source": [
    "### Feature selection"
   ]
  },
  {
   "cell_type": "code",
   "execution_count": 3,
   "metadata": {},
   "outputs": [],
   "source": [
    "feature_selection = False\n",
    "\n",
    "if feature_selection:\n",
    "    tree = ExtraTreesClassifier(n_estimators=50)\n",
    "    tree = tree.fit(features, targets)\n",
    "\n",
    "    selector = SelectFromModel(tree, prefit=True)\n",
    "    selected_features = features.columns[selector.get_support()]\n",
    "\n",
    "    features = features[selected_features]\n",
    "    test = test[selected_features]\n",
    "\n",
    "    print(features.shape, test.shape)"
   ]
  },
  {
   "cell_type": "code",
   "execution_count": 4,
   "metadata": {},
   "outputs": [],
   "source": [
    "def objective(space):\n",
    "    classifier = RandomForestClassifier(class_weight=space[\"class_weight\"],\n",
    "                                        n_estimators=int(space['n_estimators']),\n",
    "                                        max_depth=int(space['max_depth']),\n",
    "                                        max_features=space[\"max_features\"],\n",
    "                                        min_samples_split=int(space[\"min_samples_split\"]),\n",
    "                                        min_samples_leaf=int(space[\"min_samples_leaf\"]),\n",
    "                                        bootstrap=space[\"bootstrap\"],\n",
    "                                        max_samples=space[\"max_samples\"], \n",
    "                                        n_jobs=10)\n",
    "    #classifier.fit(features, targets)    \n",
    "    scores = cross_val_score(estimator=classifier,\n",
    "                             n_jobs=2,\n",
    "                             X=features, \n",
    "                             y=targets, \n",
    "                             cv=StratifiedKFold(n_splits=5),\n",
    "                             scoring=\"f1_micro\"\n",
    "                            )\n",
    "    mean_score = scores.mean()\n",
    "    \n",
    "    return {\n",
    "        'loss': 1-mean_score, \n",
    "        'status': STATUS_OK \n",
    "    }"
   ]
  },
  {
   "cell_type": "code",
   "execution_count": 50,
   "metadata": {},
   "outputs": [
    {
     "name": "stdout",
     "output_type": "stream",
     "text": [
      " 42%|████▏     | 21/50 [05:37<08:23, 17.38s/trial, best loss: 0.40423566308515535]"
     ]
    },
    {
     "name": "stderr",
     "output_type": "stream",
     "text": [
      "/root/anaconda3/envs/pt1.5/lib/python3.7/site-packages/joblib/externals/loky/process_executor.py:691: UserWarning: A worker stopped while some jobs were given to the executor. This can be caused by a too short worker timeout or by a memory leak.\n",
      "  \"timeout or by a memory leak.\", UserWarning\n",
      "\n"
     ]
    },
    {
     "name": "stdout",
     "output_type": "stream",
     "text": [
      "100%|██████████| 50/50 [15:08<00:00, 18.17s/trial, best loss: 0.40423566308515535]\n"
     ]
    }
   ],
   "source": [
    "space = {\n",
    "    'n_estimators': hp.quniform('n_estimators', 250, 350, 10),\n",
    "    'class_weight': hp.choice(\"class_weight\", [\"balanced\", None]),\n",
    "    'max_depth' : hp.quniform('max_depth', 20, 40, 1),\n",
    "    'max_features': hp.choice(\"max_features\", [\"sqrt\", \"auto\", \"log2\"]),\n",
    "    \"min_samples_split\": hp.quniform(\"min_samples_split\", 2, 30, 2),\n",
    "    'min_samples_leaf' : hp.quniform(\"min_samples_leaf\", 2, 30, 2),\n",
    "    'bootstrap': hp.choice(\"bootstrap\", [True, False]),\n",
    "    'max_samples': hp.quniform(\"max_samples\", 0.5, 0.9, 0.1)\n",
    "}\n",
    "\n",
    "trials = Trials()\n",
    "best = fmin(fn=objective, \n",
    "            verbose=5,\n",
    "            space=space,\n",
    "            algo=tpe.suggest,\n",
    "            max_evals=50,\n",
    "            trials=trials)"
   ]
  },
  {
   "cell_type": "code",
   "execution_count": 51,
   "metadata": {},
   "outputs": [],
   "source": [
    "best[\"class_weight\"] = [\"balanced\", None][best[\"class_weight\"]]\n",
    "best[\"bootstrap\"] = [True, False][best[\"bootstrap\"]]\n",
    "best[\"max_features\"] = [\"sqrt\", \"auto\", \"log2\"][best[\"max_features\"]]\n",
    "best[\"n_estimators\"] = int(best[\"n_estimators\"])\n",
    "best[\"min_samples_split\"] = int(best[\"min_samples_split\"])\n",
    "best[\"min_samples_leaf\"] = int(best[\"min_samples_leaf\"])\n",
    "best[\"max_depth\"] = int(best[\"max_depth\"])"
   ]
  },
  {
   "cell_type": "code",
   "execution_count": 52,
   "metadata": {},
   "outputs": [
    {
     "name": "stdout",
     "output_type": "stream",
     "text": [
      "best_params :\n",
      "{'bootstrap': False,\n",
      " 'class_weight': 'balanced',\n",
      " 'max_depth': 21,\n",
      " 'max_features': 'auto',\n",
      " 'max_samples': 0.5,\n",
      " 'min_samples_leaf': 6,\n",
      " 'min_samples_split': 22,\n",
      " 'n_estimators': 310}\n"
     ]
    }
   ],
   "source": [
    "print(f\"best_params :\")\n",
    "pprint(best)"
   ]
  },
  {
   "cell_type": "markdown",
   "metadata": {},
   "source": [
    "### Cross val score"
   ]
  },
  {
   "cell_type": "code",
   "execution_count": 54,
   "metadata": {},
   "outputs": [
    {
     "name": "stderr",
     "output_type": "stream",
     "text": [
      "[Parallel(n_jobs=5)]: Using backend LokyBackend with 5 concurrent workers.\n"
     ]
    },
    {
     "name": "stdout",
     "output_type": "stream",
     "text": [
      "mean score: 0.595664566854294\n"
     ]
    },
    {
     "name": "stderr",
     "output_type": "stream",
     "text": [
      "[Parallel(n_jobs=5)]: Done   2 out of   5 | elapsed:   30.8s remaining:   46.1s\n",
      "[Parallel(n_jobs=5)]: Done   5 out of   5 | elapsed:   30.8s remaining:    0.0s\n",
      "[Parallel(n_jobs=5)]: Done   5 out of   5 | elapsed:   30.8s finished\n"
     ]
    }
   ],
   "source": [
    "model = RandomForestClassifier(**best)\n",
    "scores = cross_val_score(model, features, targets, scoring=\"f1_micro\", verbose=2, n_jobs=5)\n",
    "print(f\"mean score: {np.mean(scores)}\")"
   ]
  },
  {
   "cell_type": "markdown",
   "metadata": {},
   "source": [
    "### Fit best model "
   ]
  },
  {
   "cell_type": "code",
   "execution_count": 55,
   "metadata": {},
   "outputs": [
    {
     "data": {
      "text/plain": [
       "RandomForestClassifier(bootstrap=False, ccp_alpha=0.0, class_weight='balanced',\n",
       "                       criterion='gini', max_depth=21, max_features='auto',\n",
       "                       max_leaf_nodes=None, max_samples=0.5,\n",
       "                       min_impurity_decrease=0.0, min_impurity_split=None,\n",
       "                       min_samples_leaf=6, min_samples_split=22,\n",
       "                       min_weight_fraction_leaf=0.0, n_estimators=310,\n",
       "                       n_jobs=None, oob_score=False, random_state=None,\n",
       "                       verbose=0, warm_start=False)"
      ]
     },
     "execution_count": 55,
     "metadata": {},
     "output_type": "execute_result"
    }
   ],
   "source": [
    "model = RandomForestClassifier(**best)\n",
    "model.fit(features, targets)"
   ]
  },
  {
   "cell_type": "markdown",
   "metadata": {},
   "source": [
    "### Submission "
   ]
  },
  {
   "cell_type": "code",
   "execution_count": 56,
   "metadata": {},
   "outputs": [],
   "source": [
    "submission = pd.DataFrame()\n",
    "submission[\"Id\"] = range(len(test))\n",
    "submission[\"label\"] = model.predict(test)\n",
    "submission.to_csv(f\"../data/submissions/rf_{method}.csv\", index=False)"
   ]
  },
  {
   "cell_type": "markdown",
   "metadata": {},
   "source": [
    "### Save proba"
   ]
  },
  {
   "cell_type": "code",
   "execution_count": 57,
   "metadata": {},
   "outputs": [],
   "source": [
    "probas = pd.DataFrame()\n",
    "probas[\"Id\"] = range(len(test))\n",
    "\n",
    "probas = pd.concat([probas, pd.DataFrame(model.predict_proba(test))], axis=1)"
   ]
  },
  {
   "cell_type": "code",
   "execution_count": 58,
   "metadata": {},
   "outputs": [],
   "source": [
    "probas.to_csv(f\"../data/submissions/rf_probas_{method}.csv\", index=False)"
   ]
  },
  {
   "cell_type": "markdown",
   "metadata": {},
   "source": [
    "# private leaderboard : 0.59928"
   ]
  }
 ],
 "metadata": {
  "kernelspec": {
   "display_name": "Python 3",
   "language": "python",
   "name": "python3"
  },
  "language_info": {
   "codemirror_mode": {
    "name": "ipython",
    "version": 3
   },
   "file_extension": ".py",
   "mimetype": "text/x-python",
   "name": "python",
   "nbconvert_exporter": "python",
   "pygments_lexer": "ipython3",
   "version": "3.6.10"
  }
 },
 "nbformat": 4,
 "nbformat_minor": 4
}
