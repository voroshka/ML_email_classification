{
 "cells": [
  {
   "cell_type": "code",
   "execution_count": 1,
   "metadata": {},
   "outputs": [],
   "source": [
    "import re\n",
    "from pprint import pprint\n",
    "from datetime import datetime\n",
    "from collections import Counter\n",
    "import pandas as pd\n",
    "import numpy as np\n",
    "\n",
    "from sklearn.utils import class_weight\n",
    "from sklearn.preprocessing import LabelEncoder\n",
    "#from category_encoders import TargetEncoder, CatBoostEncoder\n",
    "from sklearn.model_selection import cross_val_score, StratifiedKFold, RandomizedSearchCV, train_test_split\n",
    "from sklearn.ensemble import RandomForestClassifier, GradientBoostingClassifier\n",
    "from sklearn import metrics\n",
    "\n",
    "import xgboost as xgb\n",
    "\n",
    "from hyperopt import Trials, STATUS_OK, tpe, hp, fmin"
   ]
  },
  {
   "cell_type": "code",
   "execution_count": 2,
   "metadata": {},
   "outputs": [
    {
     "name": "stdout",
     "output_type": "stream",
     "text": [
      "(80176, 20) (34365, 20)\n"
     ]
    }
   ],
   "source": [
    "method = \"target\"\n",
    "assert method in [\"label\", \"target\", \"onehot\", \"catboost\"]\n",
    "\n",
    "features = pd.read_csv(f\"../data/processed/{method}/train.csv\")\n",
    "test = pd.read_csv(f\"../data/processed/{method}/test.csv\")\n",
    "\n",
    "targets = features[\"label\"].values\n",
    "\n",
    "features.drop([\"label\"], inplace=True, axis=1)\n",
    "\n",
    "print(features.shape, test.shape)"
   ]
  },
  {
   "cell_type": "markdown",
   "metadata": {},
   "source": [
    "### Gridsearch with HypeOPT"
   ]
  },
  {
   "cell_type": "code",
   "execution_count": 3,
   "metadata": {},
   "outputs": [],
   "source": [
    "def objective(space):\n",
    "    classifier = xgb.XGBClassifier(objective=\"multi:softmax\",\n",
    "                                   n_estimators=int(space['n_estimators']),\n",
    "                                   max_depth=int(space['max_depth']),\n",
    "                                   learning_rate = space['learning_rate'],\n",
    "                                   gamma = space['gamma'],\n",
    "                                   min_child_weight = space['min_child_weight'],\n",
    "                                   subsample = space['subsample'],\n",
    "                                   colsample_bytree = space['colsample_bytree'],\n",
    "                                )\n",
    "    #classifier.fit(features, targets)    \n",
    "    scores = cross_val_score(estimator=classifier,\n",
    "                             n_jobs=10,\n",
    "                             X=features, \n",
    "                             y=targets, \n",
    "                             cv=StratifiedKFold(n_splits=5),\n",
    "                             scoring=\"f1_micro\"\n",
    "                            )\n",
    "    mean_score = scores.mean()\n",
    "    \n",
    "    return {\n",
    "        'loss': 1-mean_score, \n",
    "        'status': STATUS_OK \n",
    "    }"
   ]
  },
  {
   "cell_type": "code",
   "execution_count": 26,
   "metadata": {},
   "outputs": [
    {
     "name": "stdout",
     "output_type": "stream",
     "text": [
      "100%|██████████| 50/50 [45:41<00:00, 54.83s/trial, best loss: 0.3944945956101422] \n"
     ]
    }
   ],
   "source": [
    "space = {\n",
    "    'n_estimators': hp.quniform('n_estimators', 100, 160, 5),\n",
    "    'max_depth' : hp.quniform('max_depth', 3, 20, 1),\n",
    "    'learning_rate' : hp.quniform('learning_rate', 0.01, 0.2, 0.01),\n",
    "    'gamma' : hp.quniform('gamma', 0, 5, 0.25),\n",
    "    'min_child_weight' : hp.quniform('min_child_weight', 1, 20, 1),\n",
    "    'subsample' : hp.quniform('subsample', 0.1, 1, 0.01),\n",
    "    'colsample_bytree' : hp.quniform('colsample_bytree', 0.1, 1.0, 0.01)\n",
    "}\n",
    "\n",
    "trials = Trials()\n",
    "best = fmin(fn=objective, \n",
    "            verbose=5,\n",
    "            space=space,\n",
    "            algo=tpe.suggest,\n",
    "            max_evals=50,\n",
    "            trials=trials)"
   ]
  },
  {
   "cell_type": "code",
   "execution_count": 6,
   "metadata": {},
   "outputs": [
    {
     "data": {
      "text/plain": [
       "{'colsample_bytree': 0.71,\n",
       " 'gamma': 1.92,\n",
       " 'learning_rate': 0.03,\n",
       " 'max_depth': 6.0,\n",
       " 'min_child_weight': 16.0,\n",
       " 'n_estimators': 135.0,\n",
       " 'subsample': 0.96}"
      ]
     },
     "execution_count": 6,
     "metadata": {},
     "output_type": "execute_result"
    }
   ],
   "source": [
    "best"
   ]
  },
  {
   "cell_type": "code",
   "execution_count": 7,
   "metadata": {},
   "outputs": [],
   "source": [
    "best[\"max_depth\"] = int(best[\"max_depth\"])\n",
    "best[\"n_estimators\"] = int(best[\"n_estimators\"])"
   ]
  },
  {
   "cell_type": "code",
   "execution_count": 16,
   "metadata": {},
   "outputs": [
    {
     "data": {
      "text/plain": [
       "{'colsample_bytree': 0.71,\n",
       " 'gamma': 1.92,\n",
       " 'learning_rate': 0.03,\n",
       " 'max_depth': 6,\n",
       " 'min_child_weight': 16.0,\n",
       " 'n_estimators': 135,\n",
       " 'subsample': 0.96}"
      ]
     },
     "execution_count": 16,
     "metadata": {},
     "output_type": "execute_result"
    }
   ],
   "source": [
    "best"
   ]
  },
  {
   "cell_type": "markdown",
   "metadata": {},
   "source": [
    "### Testing cross_val_score: "
   ]
  },
  {
   "cell_type": "code",
   "execution_count": 21,
   "metadata": {},
   "outputs": [
    {
     "name": "stderr",
     "output_type": "stream",
     "text": [
      "[Parallel(n_jobs=5)]: Using backend LokyBackend with 5 concurrent workers.\n",
      "[Parallel(n_jobs=5)]: Done   2 out of   5 | elapsed:   43.9s remaining:  1.1min\n"
     ]
    },
    {
     "name": "stdout",
     "output_type": "stream",
     "text": [
      "mean score: 0.605106280591152\n"
     ]
    },
    {
     "name": "stderr",
     "output_type": "stream",
     "text": [
      "[Parallel(n_jobs=5)]: Done   5 out of   5 | elapsed:   46.2s remaining:    0.0s\n",
      "[Parallel(n_jobs=5)]: Done   5 out of   5 | elapsed:   46.2s finished\n"
     ]
    }
   ],
   "source": [
    "model = xgb.XGBClassifier(objective=\"multi:softmax\", **{'colsample_bytree': 0.71,\n",
    " 'gamma': 5,\n",
    " 'learning_rate': 0.03,\n",
    " 'max_depth': 6,\n",
    " 'min_child_weight': 16.0,\n",
    " 'n_estimators': 175,\n",
    " 'subsample': 0.96})\n",
    "\n",
    "scores = cross_val_score(model, features, targets, scoring=\"f1_micro\", verbose=2, n_jobs=5)\n",
    "print(f\"mean score: {np.mean(scores)}\")"
   ]
  },
  {
   "cell_type": "markdown",
   "metadata": {},
   "source": [
    "### Train best model on all data"
   ]
  },
  {
   "cell_type": "code",
   "execution_count": 22,
   "metadata": {},
   "outputs": [
    {
     "data": {
      "text/plain": [
       "XGBClassifier(base_score=0.5, booster='gbtree', colsample_bylevel=1,\n",
       "              colsample_bynode=1, colsample_bytree=0.71, gamma=5, gpu_id=-1,\n",
       "              importance_type='gain', interaction_constraints='',\n",
       "              learning_rate=0.03, max_delta_step=0, max_depth=6,\n",
       "              min_child_weight=16.0, missing=nan, monotone_constraints='()',\n",
       "              n_estimators=175, n_jobs=0, num_parallel_tree=1,\n",
       "              objective='multi:softprob', random_state=0, reg_alpha=0,\n",
       "              reg_lambda=1, scale_pos_weight=None, subsample=0.96,\n",
       "              tree_method='exact', validate_parameters=1, verbosity=None)"
      ]
     },
     "execution_count": 22,
     "metadata": {},
     "output_type": "execute_result"
    }
   ],
   "source": [
    "model = xgb.XGBClassifier(objective=\"multi:softmax\", **{'colsample_bytree': 0.71,\n",
    " 'gamma': 5,\n",
    " 'learning_rate': 0.03,\n",
    " 'max_depth': 6,\n",
    " 'min_child_weight': 16.0,\n",
    " 'n_estimators': 175,\n",
    " 'subsample': 0.96})\n",
    "model.fit(features, targets)"
   ]
  },
  {
   "cell_type": "markdown",
   "metadata": {},
   "source": [
    "### Submission "
   ]
  },
  {
   "cell_type": "code",
   "execution_count": 23,
   "metadata": {},
   "outputs": [],
   "source": [
    "submission = pd.DataFrame()\n",
    "submission[\"Id\"] = range(len(test))\n",
    "submission[\"label\"] = model.predict(test)\n",
    "submission.to_csv(f\"../data/submissions/xgb_{method}.csv\", index=False)"
   ]
  },
  {
   "cell_type": "markdown",
   "metadata": {},
   "source": [
    "### Save proba"
   ]
  },
  {
   "cell_type": "code",
   "execution_count": 24,
   "metadata": {},
   "outputs": [],
   "source": [
    "probas = pd.DataFrame()\n",
    "probas[\"Id\"] = range(len(test))\n",
    "\n",
    "probas = pd.concat([probas, pd.DataFrame(model.predict_proba(test))], axis=1)"
   ]
  },
  {
   "cell_type": "code",
   "execution_count": 25,
   "metadata": {},
   "outputs": [],
   "source": [
    "probas.to_csv(f\"../data/submissions/xgb_probas_{method}.csv\", index=False)"
   ]
  },
  {
   "cell_type": "markdown",
   "metadata": {},
   "source": [
    "#  0.60723 private public leaderboard"
   ]
  }
 ],
 "metadata": {
  "kernelspec": {
   "display_name": "Python 3",
   "language": "python",
   "name": "python3"
  },
  "language_info": {
   "codemirror_mode": {
    "name": "ipython",
    "version": 3
   },
   "file_extension": ".py",
   "mimetype": "text/x-python",
   "name": "python",
   "nbconvert_exporter": "python",
   "pygments_lexer": "ipython3",
   "version": "3.6.10"
  }
 },
 "nbformat": 4,
 "nbformat_minor": 4
}
